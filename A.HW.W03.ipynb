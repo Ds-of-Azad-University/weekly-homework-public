{
 "cells": [
  {
   "cell_type": "markdown",
   "id": "b071d69c-9324-4f81-adda-dcb9572b9596",
   "metadata": {},
   "source": [
    "<div style=\"direction:rtl;line-height:300%;\"><font face=\"XB Zar\" size=5>\n",
    "<div style=\"direction:rtl;line-height:300%;\"><font face=\"XB Zar\" size=5>\n",
    "<div align=center>\n",
    "<font color=#FF7500>\n",
    "دانشگاه آزاد اسلامی شیراز - دانشکده مهندسی کامپیوتر\n",
    "</font>\n",
    "<br>\n",
    "<font color=blue>\n",
    "ساختمان داده ها \n",
    "</font>\n",
    "<br>\n",
    "<font>\n",
    "استاد : دکتر اسکندری  \n",
    "</font>\n",
    "<br>    \n",
    "ترم اول سال تحصیلی 1403-1404\n",
    "</div>\n",
    "<hr/>\n",
    "<font color=red size=6>\n",
    "<p></p>\n",
    "\n",
    "<div align=center>هفته سوم (مباحث : Time complexity) </div>\n",
    "</font>\n",
    "<div align=center>\n",
    "گرد آورندگان : امیر حسین همتی ، حمید رضا نامجومنش</div>\n",
    "<hr>\n",
    "</font></div>\n"
   ]
  },
  {
   "cell_type": "markdown",
   "id": "638ceec9-cd2b-41f4-9a22-cf4e45215a69",
   "metadata": {},
   "source": [
    "<div style=\"direction:rtl;line-height:300%;\"><font face=\"XB Zar\" size=5>\n",
    "<div style=\"direction:rtl;line-height:300%;\"><font face=\"XB Zar\" size=5>\n",
    "<div align=center>\n",
    "<font face=\"IranNastaliq\" size=30>\n",
    "<p></p>\n",
    "توضیحات :\n",
    "</font>\n",
    "<br>\n",
    "<hr/>"
   ]
  },
  {
   "cell_type": "markdown",
   "id": "97f46964-40bd-4bf1-8d05-ef443e4fd8cb",
   "metadata": {},
   "source": [
    "<div style=\"direction:rtl;line-height:300%;\"><font face=\"XB Zar\" size=5>\n",
    "<div style=\"direction:rtl;line-height:300%;\"><font face=\"XB Zar\" size=5>\n",
    "<div align=right>\n",
    "    <img align=\"center\" src=\"01 open ai.png\" alt=\"legal oepn ai\"  style=\"width: 100px\" ></div>\n",
    "    <div>\n",
    "    در صورت مشاهده لوگوی سبز open ai  در بالای سوال خود شما می توانید از هوش مصنوعی در پاسخ به سوال خود استفاده کنید اما باید سوالی را که از هوش مصنوعی پرسیدید اسکرین شات گرفته و در پاسخنامه خود قرار دهید.\n",
    "    </div>\n",
    "    \n",
    "<div align=right>\n",
    "    <img align=\"center\" src=\"02 open ai.png\" alt=\"illegal oepn ai\"  style=\"width: 100px\" ></div>\n",
    "    <div>\n",
    "    در صورت مشاهده لوگوی قرمز  open ai  در بالای سوال خود شما نمی توانید از هوش مصنوعی در پاسخ به سوال خود استفاده کنید و باید با دانش خود به این سئوال پاسخ دهید.\n",
    "    </div>\n",
    "  \n",
    "\n",
    "<hr/>\n",
    "</body>"
   ]
  },
  {
   "cell_type": "markdown",
   "id": "645e573a-a996-448c-b93a-51826b52d7b5",
   "metadata": {},
   "source": [
    "<div style=\"direction:rtl;line-height:300%;\"><font face=\"XB Zar\" size=5>\n",
    "<div style=\"direction:rtl;line-height:300%;\"><font face=\"XB Zar\" size=5>\n",
    "<div align=center>\n",
    "<font face=\"IranNastaliq\" size=30>\n",
    "<p></p>\n",
    "سوالات + پاسخ : \n",
    "</font>\n",
    "<br>"
   ]
  },
  {
   "cell_type": "markdown",
   "id": "2328f7d2-d9b8-4385-be47-1caee46e895b",
   "metadata": {},
   "source": [
    "<div style=\"direction:rtl;line-height:300%;\"><font face=\"XB Zar\" size=5>\n",
    "\n",
    "<div align=right>\n",
    "    <img align=\"center\" src=\"02 open ai.png\" alt=\"illegal oepn ai\"  style=\"width: 100px\" ></div>\n",
    "<div align=right>\n",
    "    سوال 1 : چرا در تحلیل  الگوریتم ها از نماد های   O , Ω , Θ استفاده می کنیم و فرق هر کدام را با ذکر مثال توضیح دهید و چرا ضرایب ثابت () اعضای پایین رتبه در این تحلیل ها اهمیت ندارند ؟ .\n",
    "    </div>\n",
    "<br>"
   ]
  },
  {
   "cell_type": "markdown",
   "id": "a24e0fcb-b49d-40a8-98cf-da3d26b928d9",
   "metadata": {},
   "source": [
    "<div  style=\"direction:rtl;line-height:300%;background-color: #D1FFBD;\"><font face=\"XB Zar\" size=5>\n",
    "پاسخ : \n",
    "</div>\n",
    "<div align= center style=\"direction:rtl;line-height:300%;background-color: #D1FFBD;\">\n",
    "Big O -> worst case (Upper Bound)  \n",
    "<br>\n",
    "Omega Ω -> best case (Lower Bound)\n",
    "<br>\n",
    "Theta Θ -> average case\n",
    "</div>\n",
    "<hr style=\"background-color: #D1FFBD;\">\n",
    "<div align= right style=\"direction:rtl;line-height:300%;background-color: #D1FFBD;\">\n",
    "    در ابعاد بزرگ تاثیر ضرایب کم می شود.\n",
    "</div>\n",
    "<br>"
   ]
  },
  {
   "cell_type": "markdown",
   "id": "19103436-7d01-403c-bd2b-43e236294fec",
   "metadata": {},
   "source": [
    "<div style=\"direction:rtl;line-height:300%;\"><font face=\"XB Zar\" size=5>\n",
    "\n",
    "<div align=right>\n",
    "    <img align=\"center\" src=\"02 open ai.png\" alt=\"illegal oepn ai\"  style=\"width: 100px\" ></div>\n",
    "<div align=right>\n",
    "    سوال 2 :  تفاوت بین بهترین حالت (Best Case) و بدترین حالت (Worst Case) را در تحلیل الگوریتم ها توضیح دهید و یک مثال از الگوریتم جستجوی دودویی (Binary Search) به همراه بدترین حالت (\n",
    "    Worst Case) و بهترین حالت (Best Case) بیان کنید.\n",
    "    </div>\n",
    "<br>"
   ]
  },
  {
   "cell_type": "markdown",
   "id": "fe13ec0a-958a-4ec5-b502-98bfc74c7ee1",
   "metadata": {},
   "source": [
    "<div  style=\"direction:rtl;line-height:300%;background-color: #D1FFBD;\"><font face=\"XB Zar\" size=5>\n",
    "پاسخ : \n",
    "</div>\n",
    "<div style=\"direction:rtl;line-height:300%;background-color: #D1FFBD;\">\n",
    "    worst case :  زمانی که الگوریتم بیشترین زمان ممکن را برای اجرا نیاز دارد و درصورت وجود شرط باید تمام شرط ها را پوشش دهد .\n",
    "<br>\n",
    "    best case : زمانی که الگوریتم در کمترین زمان ممکن اجرا شود و درصورت وجود شرط  از آن خارج شود    .\n",
    "<br>\n",
    "    binary search : بدترین حالت آن زمانی رخ می دهد که عنصری را که می خواهیم پیدا کنیم در آخرین مقایسه پیدا شود پس کلی مقایسه نیاز دارد و یا اینکه عنصر مورد نظر در آرایه نباشد .\n",
    "$$O(log n)$$\n",
    "<br>\n",
    "    . در بهترین حالت زمانی هم عنصر مورد نظر جستجو در اولین مقایسه پیدا شود که  \n",
    "    $$O(1)$$\n",
    "</div>\n",
    "<br>"
   ]
  },
  {
   "cell_type": "markdown",
   "id": "6d90780d-ba94-40d6-afbb-26196264ba25",
   "metadata": {},
   "source": [
    "<div style=\"direction:rtl;line-height:300%;\"><font face=\"XB Zar\" size=5>\n",
    "\n",
    "<div align=right>\n",
    "    <img align=\"center\" src=\"02 open ai.png\" alt=\"illegal oepn ai\"  style=\"width: 100px\" ></div>\n",
    "<div align=right>\n",
    "    سوال 3 : چرا پیچیدگی زمانی در الگوریتم مرتب سازی حبابی (Bubble Sort)  $O(n^2)$ , آیا می توانید تصور کرد که در آن پیچیدگی زمانی کمتر از $O(n^2)$ شود ؟ توضیح دهید \n",
    ".\n",
    "    </div>\n",
    "<br>"
   ]
  },
  {
   "cell_type": "markdown",
   "id": "ef310f37-d973-4d3f-8231-aeceffd7885c",
   "metadata": {},
   "source": [
    "<div  style=\"direction:rtl;line-height:300%;background-color: #D1FFBD;\"><font face=\"XB Zar\" size=5>\n",
    "پاسخ : \n",
    "</div>\n",
    "<div style=\"direction:rtl;line-height:300%;background-color: #D1FFBD;\">\n",
    "    به دلیل اینکه در هر مرحله باید آرایه را برای پیدا کردن جفت‌های اشتباه با هم مقایسه کند پس در هر مرحله $(n -1)$ مقایسه نیاز به انجام است و جابجایی باید انجام شود و در بدترین حالت وقتی آرایه مرتب باشد پیچیدگی زمانی می‌تواند به  $O(n)$کاهش پیدا کند\n",
    "</div>"
   ]
  },
  {
   "cell_type": "markdown",
   "id": "e18fef1b-a39a-4ec8-aeab-3412810212ac",
   "metadata": {},
   "source": [
    "<div style=\"direction:rtl;line-height:300%;\"><font face=\"XB Zar\" size=5>\n",
    "\n",
    "<div align=right>\n",
    "    <img align=\"center\" src=\"01 open ai.png\" alt=\"legal oepn ai\"  style=\"width: 100px\" ></div>\n",
    "<div align=right>\n",
    "    سوال 4 : تابع جستجوی دودویی (Binary Search) را به صورت تکرار شونده (iterative) پیاده سازی کنید .\n",
    "    </div>\n",
    "<br>"
   ]
  },
  {
   "cell_type": "markdown",
   "id": "43cf1c32-98c3-4e01-a723-2131b37e939e",
   "metadata": {},
   "source": [
    "<div  algin= right style=\"direction:rtl;line-height:300%;background-color: #D1FFBD;\"><font face=\"XB Zar\" size=5>\n",
    "    <hr> پاسخ :<hr>\n",
    "</div>"
   ]
  },
  {
   "cell_type": "code",
   "execution_count": null,
   "id": "2f960b94-f29f-4685-9906-be6d150dba80",
   "metadata": {},
   "outputs": [],
   "source": [
    "def binary_search(arr, target):\n",
    "    left, right = 0, len(arr) - 1\n",
    "\n",
    "    while left <= right:\n",
    "        mid = (left + right) // 2\n",
    "\n",
    "        if arr[mid] == target:\n",
    "            return mid\n",
    "        elif arr[mid] < target:\n",
    "            left = mid + 1\n",
    "        else:\n",
    "            right = mid - 1\n",
    "\n",
    "    return -1"
   ]
  },
  {
   "cell_type": "markdown",
   "id": "d1361fa2-1100-4052-b67e-826238efd663",
   "metadata": {},
   "source": [
    "<div  algin= right style=\"direction:rtl;line-height:300%;background-color: #D1FFBD;\"><font face=\"XB Zar\" size=5>\n",
    "    <hr> <hr>\n",
    "</div>"
   ]
  },
  {
   "cell_type": "markdown",
   "id": "330b2e37-9760-4f13-8774-a15545b132dd",
   "metadata": {},
   "source": [
    "<div style=\"direction:rtl;line-height:300%;\"><font face=\"XB Zar\" size=5>\n",
    "\n",
    "<div align=right>\n",
    "    <img align=\"center\" src=\"01 open ai.png\" alt=\"legal oepn ai\"  style=\"width: 100px\" ></div>\n",
    "<div align=right>\n",
    "    سوال 5 : الگوریتم فیبونانچی (Fibonacci) را یکبار با روش (Memoization) و یکبار با روش (yield (generator)) پیاده سازی کنید و پیچیدگی زمانی و پیچیدگی مکانی (مقدار مکانی را که از حافظه (RAM) استفاده می کند ) هر دو را برسی کنید.\n",
    "    </div>\n",
    "<br>"
   ]
  },
  {
   "cell_type": "markdown",
   "id": "49238e5d-0898-469d-abef-7557cea94859",
   "metadata": {},
   "source": [
    "<div  algin= right style=\"direction:rtl;line-height:300%;background-color: #D1FFBD;\"><font face=\"XB Zar\" size=5>\n",
    "    <hr> پاسخ :<hr>\n",
    "</div>"
   ]
  },
  {
   "cell_type": "markdown",
   "id": "b8fd0eca-0195-43d5-8e7f-bcbb35560550",
   "metadata": {},
   "source": [
    "<div  algin= left style=\"direction:ltr;line-height:300%;background-color: #D1FFBD;\"><font face=\"XB Zar\" size=3>\n",
    "     Memoization :\n",
    "</div>"
   ]
  },
  {
   "cell_type": "code",
   "execution_count": null,
   "id": "3fe22aaf-5bdc-4a60-8751-34e12fdb5345",
   "metadata": {},
   "outputs": [],
   "source": [
    "def fibonacci(n, memo={}):\n",
    "    if n in memo:\n",
    "        return memo[n]\n",
    "    if n <= 1:\n",
    "        return n\n",
    "    memo[n] = fibonacci(n-1, memo) + fibonacci(n-2, memo)\n",
    "    return memo[n]\n",
    "\n",
    "\n",
    "# example : \n",
    "\n",
    "n = 10\n",
    "result = fibonacci(n)\n",
    "print(f'fibonacci({n}) = {result}')\n"
   ]
  },
  {
   "cell_type": "markdown",
   "id": "26219888-9f0d-4c75-9a94-6861662d45d5",
   "metadata": {},
   "source": [
    "<div  algin= left style=\"direction:ltr;line-height:300%;background-color: #D1FFBD;\"><font face=\"XB Zar\" size=3>\n",
    "     yield (generator) :\n",
    "</div>"
   ]
  },
  {
   "cell_type": "code",
   "execution_count": null,
   "id": "ef5a1da4-0b5d-41aa-b1ce-02a2ba720909",
   "metadata": {},
   "outputs": [],
   "source": [
    "def fibonacci():\n",
    "    a, b = 0, 1\n",
    "    while True:\n",
    "        yield a\n",
    "        a, b = b, a + b\n",
    "\n",
    "\n",
    "# example : \n",
    "\n",
    "gen = fibonacci()\n",
    "for _ in range(10):\n",
    "    print(next(gen))"
   ]
  },
  {
   "cell_type": "markdown",
   "id": "d4282705-89a3-46f8-888c-10093c86806b",
   "metadata": {},
   "source": [
    "<div  algin= right style=\"direction:rtl;line-height:300%;background-color: #D1FFBD;\"><font face=\"XB Zar\" size=5>\n",
    "    <hr> <hr>\n",
    "</div>"
   ]
  },
  {
   "cell_type": "markdown",
   "id": "8eb0064d-9dbd-43d4-9bc6-3dc1d466cfca",
   "metadata": {},
   "source": [
    "<div style=\"direction:rtl;line-height:300%;\"><font face=\"XB Zar\" size=5>\n",
    "\n",
    "<div align=right>\n",
    "    <img align=\"center\" src=\"02 open ai.png\" alt=\"illegal oepn ai\"  style=\"width: 100px\" ></div>\n",
    "<div align=right>\n",
    "    سوال 6 : پیچیدگی زمانی الگوریتم های زیر را محاسبه کنید  .  \n",
    "    <div style=\"direction:rtl;line-height:300%;\"><font face=\"XB Zar\" size=3>    \n",
    "<div align= right>\n",
    "<ul style=\"margin-right: 0;\">\n",
    "    <div align=right>\n",
    "    <img align=\"center\" src=\"02 open ai.png\" alt=\"illegal oepn ai\"  style=\"width: 50px\" ></div>\n",
    "    <li> فرض کنید یک آرایه از اعداد صحیح داریم می خواهیم برسی کنیم که آیا عدد صفردر این آرایه وجود دارد یا خیر.</li>\n",
    "    <br>\n",
    "    <div align=right>\n",
    "    <img align=\"center\" src=\"01 open ai.png\" alt=\"legal oepn ai\"  style=\"width: 50px\" ></div>\n",
    "    <li>می خواهیم اولین عنصر یک لیست لینک شده را برگردانیم پیچیدگی زمانی این الگوریتم را بنویسید .</li>\n",
    "    <br>\n",
    "    <div align=right>\n",
    "    <img align=\"center\" src=\"02 open ai.png\" alt=\"illegal oepn ai\"  style=\"width: 50px\" ></div>\n",
    "    <li> می خواهیم برسی کنیم که یک دیکشنری شامل یک کلید با مقداری خاص وجود<u><b> دارد یا خیر.<b><u> </li>\n",
    "    <br>\n",
    "    <div align=right>\n",
    "    <img align=\"center\" src=\"02 open ai.png\" alt=\"illegal oepn ai\"  style=\"width: 50px\" ></div>\n",
    "    <li>می خواهیم مقدار حداقل یک لیست از اعداد صحیح را پیدا کنیم (در واقع min یک لیست را پیدا کنیم )</li>\n",
    "    <br>\n",
    "    <div align=right>\n",
    "    <img align=\"center\" src=\"01 open ai.png\" alt=\"legal oepn ai\"  style=\"width: 50px\" ></div>\n",
    "    <li>می خواهیم اولین عنصر یک پشته (stack) را برگردانیم بدون اینکه آن را از پشته حذف کنیم. </li>\n",
    "</ul>\n",
    "</div>\n",
    "    </div>"
   ]
  },
  {
   "cell_type": "markdown",
   "id": "64175746-9d48-48f2-80df-7fd95983f51a",
   "metadata": {},
   "source": [
    "<div  algin= right style=\"direction:rtl;line-height:300%;background-color: #D1FFBD;\"><font face=\"XB Zar\" size=5>\n",
    "     پاسخ :\n",
    "<ul algin= left style=\"direction:ltr;line-height:300%;background-color: #D1FFBD;\">\n",
    "    <li>best case  →  $O(1)$     &nbsp;    worst case  →  $O(n)$</li>\n",
    "    <br>\n",
    "    <li>best case  →  $O(1)$     &nbsp;    worst case  →  $O(1)$</li>\n",
    "    <br>    \n",
    "    <li>best case  →  $O(1)$     &nbsp;    worst case  →  $O(1)$</li>\n",
    "    <br>\n",
    "    <li>best case  →  $O(1)$     &nbsp;    worst case  →  $O(1)$</li>\n",
    "</ul>\n",
    "\n",
    "</div>\n"
   ]
  },
  {
   "cell_type": "code",
   "execution_count": null,
   "id": "423b58ca-e4ce-4ff8-8cc2-c68af4dc48c2",
   "metadata": {},
   "outputs": [],
   "source": []
  }
 ],
 "metadata": {
  "kernelspec": {
   "display_name": "Python 3 (ipykernel)",
   "language": "python",
   "name": "python3"
  },
  "language_info": {
   "codemirror_mode": {
    "name": "ipython",
    "version": 3
   },
   "file_extension": ".py",
   "mimetype": "text/x-python",
   "name": "python",
   "nbconvert_exporter": "python",
   "pygments_lexer": "ipython3",
   "version": "3.9.13"
  }
 },
 "nbformat": 4,
 "nbformat_minor": 5
}
